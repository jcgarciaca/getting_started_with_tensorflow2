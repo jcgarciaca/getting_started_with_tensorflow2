{
  "nbformat": 4,
  "nbformat_minor": 0,
  "metadata": {
    "kernelspec": {
      "name": "python3",
      "display_name": "Python 3"
    },
    "colab": {
      "name": "Capstone Project.ipynb",
      "provenance": [],
      "collapsed_sections": []
    },
    "accelerator": "GPU"
  },
  "cells": [
    {
      "cell_type": "markdown",
      "metadata": {
        "id": "rffwkDWTz_Fo"
      },
      "source": [
        "# Capstone Project\n",
        "## Image classifier for the SVHN dataset\n",
        "### Instructions\n",
        "\n",
        "In this notebook, you will create a neural network that classifies real-world images digits. You will use concepts from throughout this course in building, training, testing, validating and saving your Tensorflow classifier model.\n",
        "\n",
        "This project is peer-assessed. Within this notebook you will find instructions in each section for how to complete the project. Pay close attention to the instructions as the peer review will be carried out according to a grading rubric that checks key parts of the project instructions. Feel free to add extra cells into the notebook as required.\n",
        "\n",
        "### How to submit\n",
        "\n",
        "When you have completed the Capstone project notebook, you will submit a pdf of the notebook for peer review. First ensure that the notebook has been fully executed from beginning to end, and all of the cell outputs are visible. This is important, as the grading rubric depends on the reviewer being able to view the outputs of your notebook. Save the notebook as a pdf (you could download the notebook with File -> Download .ipynb, open the notebook locally, and then File -> Download as -> PDF via LaTeX), and then submit this pdf for review.\n",
        "\n",
        "### Let's get started!\n",
        "\n",
        "We'll start by running some imports, and loading the dataset. For this project you are free to make further imports throughout the notebook as you wish. "
      ]
    },
    {
      "cell_type": "code",
      "metadata": {
        "id": "O3vI8jSIz_Fs"
      },
      "source": [
        "import tensorflow as tf\n",
        "from scipy.io import loadmat\n",
        "import matplotlib.pyplot as plt\n",
        "import numpy as np\n",
        "import random\n",
        "from tensorflow.keras.models import Sequential\n",
        "from tensorflow.keras.layers import Dense, Dropout, Flatten, Conv2D, MaxPooling2D, BatchNormalization\n",
        "from tensorflow.keras.callbacks import ModelCheckpoint, EarlyStopping"
      ],
      "execution_count": 184,
      "outputs": []
    },
    {
      "cell_type": "markdown",
      "metadata": {
        "id": "8OrHY7TRz_Fx"
      },
      "source": [
        "For the capstone project, you will use the [SVHN dataset](http://ufldl.stanford.edu/housenumbers/). This is an image dataset of over 600,000 digit images in all, and is a harder dataset than MNIST as the numbers appear in the context of natural scene images. SVHN is obtained from house numbers in Google Street View images.\n",
        "\n",
        "* Y. Netzer, T. Wang, A. Coates, A. Bissacco, B. Wu and A. Y. Ng. \"Reading Digits in Natural Images with Unsupervised Feature Learning\". NIPS Workshop on Deep Learning and Unsupervised Feature Learning, 2011.\n",
        "\n",
        "The train and test datasets required for this project can be downloaded from [here](http://ufldl.stanford.edu/housenumbers/train.tar.gz) and [here](http://ufldl.stanford.edu/housenumbers/test.tar.gz). Once unzipped, you will have two files: `train_32x32.mat` and `test_32x32.mat`. You should store these files in Drive for use in this Colab notebook.\n",
        "\n",
        "Your goal is to develop an end-to-end workflow for building, training, validating, evaluating and saving a neural network that classifies a real-world image into one of ten classes."
      ]
    },
    {
      "cell_type": "code",
      "metadata": {
        "id": "r8BHW8P_2wxw",
        "outputId": "9bf772ab-9caa-41f5-b07f-890a0b6a9299",
        "colab": {
          "base_uri": "https://localhost:8080/",
          "height": 34
        }
      },
      "source": [
        "# Run this cell to connect to your Drive folder\n",
        "\n",
        "from google.colab import drive\n",
        "drive.mount('/content/gdrive')"
      ],
      "execution_count": 4,
      "outputs": [
        {
          "output_type": "stream",
          "text": [
            "Mounted at /content/gdrive\n"
          ],
          "name": "stdout"
        }
      ]
    },
    {
      "cell_type": "code",
      "metadata": {
        "id": "DnxHh-r0unIH",
        "outputId": "96f8907e-e847-47e4-972a-818f092c6b11",
        "colab": {
          "base_uri": "https://localhost:8080/",
          "height": 34
        }
      },
      "source": [
        "! ls /content/gdrive/My\\ Drive/Colab\\ Notebooks/data"
      ],
      "execution_count": 5,
      "outputs": [
        {
          "output_type": "stream",
          "text": [
            "test_32x32.mat\ttrain_32x32.mat\n"
          ],
          "name": "stdout"
        }
      ]
    },
    {
      "cell_type": "code",
      "metadata": {
        "id": "YWdiz3n_z_Fy"
      },
      "source": [
        "# Load the dataset from your Drive folder\n",
        "\n",
        "train = loadmat('/content/gdrive/My Drive/Colab Notebooks/data/train_32x32.mat')\n",
        "test = loadmat('/content/gdrive/My Drive/Colab Notebooks/data/test_32x32.mat')"
      ],
      "execution_count": 6,
      "outputs": []
    },
    {
      "cell_type": "markdown",
      "metadata": {
        "id": "Sot1IcuZz_F2"
      },
      "source": [
        "Both `train` and `test` are dictionaries with keys `X` and `y` for the input images and labels respectively."
      ]
    },
    {
      "cell_type": "markdown",
      "metadata": {
        "id": "_Q1n_Ai2z_F3"
      },
      "source": [
        "## 1. Inspect and preprocess the dataset\n",
        "* Extract the training and testing images and labels separately from the train and test dictionaries loaded for you.\n",
        "* Select a random sample of images and corresponding labels from the dataset (at least 10), and display them in a figure.\n",
        "* Convert the training and test images to grayscale by taking the average across all colour channels for each pixel. _Hint: retain the channel dimension, which will now have size 1._\n",
        "* Select a random sample of the grayscale images and corresponding labels from the dataset (at least 10), and display them in a figure."
      ]
    },
    {
      "cell_type": "code",
      "metadata": {
        "id": "-WIH5hyXz_F4"
      },
      "source": [
        "def get_train_test_data(train_data, test_data):\n",
        "    x_train, y_train = train_data['X'], train_data['y']\n",
        "    x_test, y_test = test_data['X'], test_data['y']\n",
        "    # Set labels between 0 and 9\n",
        "    y_train -= 1\n",
        "    y_test -= 1\n",
        "    # transpose to batch size first\n",
        "    x_train = np.transpose(x_train, (3, 0, 1, 2))\n",
        "    x_test = np.transpose(x_test, (3, 0, 1, 2))\n",
        "    # min - max: 0 - 255\n",
        "    x_train = x_train / 255.0\n",
        "    x_test = x_test / 255.0\n",
        "    return x_train, y_train, x_test, y_test"
      ],
      "execution_count": 7,
      "outputs": []
    },
    {
      "cell_type": "code",
      "metadata": {
        "id": "zmGJK3xgz_F8",
        "outputId": "3c746de2-f7fc-4db8-86fc-3ba35cdd9368",
        "colab": {
          "base_uri": "https://localhost:8080/",
          "height": 156
        }
      },
      "source": [
        "x_train, y_train, x_test, y_test = get_train_test_data(train, test)\n",
        "print(f'x_train shape is: {x_train.shape}')\n",
        "print(f'y_train shape is: {y_train.shape}')\n",
        "print(f'x_test shape is: {x_test.shape}')\n",
        "print(f'y_test shape is: {y_test.shape}')\n",
        "print(f'x_train data: min value is {np.min(x_train)} and max value is {np.max(x_train)}')\n",
        "print(f'x_test data: min value is {np.min(x_test)} and max value is {np.max(x_test)}')\n",
        "print(f'y_train data: min value is {np.min(y_train)} and max value is {np.max(y_train)}')\n",
        "print(f'y_test data: min value is {np.min(y_test)} and max value is {np.max(y_test)}')"
      ],
      "execution_count": 8,
      "outputs": [
        {
          "output_type": "stream",
          "text": [
            "x_train shape is: (73257, 32, 32, 3)\n",
            "y_train shape is: (73257, 1)\n",
            "x_test shape is: (26032, 32, 32, 3)\n",
            "y_test shape is: (26032, 1)\n",
            "x_train data: min value is 0.0 and max value is 1.0\n",
            "x_test data: min value is 0.0 and max value is 1.0\n",
            "y_train data: min value is 0 and max value is 9\n",
            "y_test data: min value is 0 and max value is 9\n"
          ],
          "name": "stdout"
        }
      ]
    },
    {
      "cell_type": "code",
      "metadata": {
        "id": "6SR4gYffz_F_",
        "outputId": "df4d5473-ef5a-4f95-cf54-097c92612e39",
        "colab": {
          "base_uri": "https://localhost:8080/",
          "height": 94
        }
      },
      "source": [
        "num_imgs = 10\n",
        "fig, ax = plt.subplots(1, num_imgs, figsize=(num_imgs, 1))\n",
        "random_sample = random.sample(range(len(x_train)), num_imgs)\n",
        "\n",
        "for idx, sample in enumerate(random_sample):\n",
        "    ax[idx].set_axis_off()\n",
        "    ax[idx].imshow(x_train[sample])\n",
        "    ax[idx].set_title(y_train[sample][0] + 1)"
      ],
      "execution_count": 9,
      "outputs": [
        {
          "output_type": "display_data",
          "data": {
            "image/png": "[encoded data removed]",
            "text/plain": [
              "<Figure size 720x72 with 10 Axes>"
            ]
          },
          "metadata": {
            "tags": [],
            "needs_background": "light"
          }
        }
      ]
    },
    {
      "cell_type": "code",
      "metadata": {
        "id": "UXYwWhHpz_GD"
      },
      "source": [
        "x_train = np.mean(x_train, axis = 3)[..., np.newaxis]\n",
        "x_test = np.mean(x_test, axis = 3)[..., np.newaxis]"
      ],
      "execution_count": 10,
      "outputs": []
    },
    {
      "cell_type": "code",
      "metadata": {
        "id": "8v4RBt6koOBQ",
        "outputId": "2be620fa-ed3b-4b63-b0b4-f6e2197869e2",
        "colab": {
          "base_uri": "https://localhost:8080/",
          "height": 52
        }
      },
      "source": [
        "print(f'x_train shape is: {x_train.shape}')\n",
        "print(f'x_test shape is: {x_test.shape}')"
      ],
      "execution_count": 11,
      "outputs": [
        {
          "output_type": "stream",
          "text": [
            "x_train shape is: (73257, 32, 32, 1)\n",
            "x_test shape is: (26032, 32, 32, 1)\n"
          ],
          "name": "stdout"
        }
      ]
    },
    {
      "cell_type": "code",
      "metadata": {
        "id": "GbzM9g7QoOLR",
        "outputId": "29ed5f0c-b74e-469d-d61a-a65a9b3e808f",
        "colab": {
          "base_uri": "https://localhost:8080/",
          "height": 94
        }
      },
      "source": [
        "fig, ax = plt.subplots(1, num_imgs, figsize=(num_imgs, 1))\n",
        "for idx, sample in enumerate(random_sample):\n",
        "    ax[idx].set_axis_off()\n",
        "    ax[idx].imshow(np.squeeze(x_train[sample]), cmap='gray')\n",
        "    ax[idx].set_title(y_train[sample][0] + 1)"
      ],
      "execution_count": 12,
      "outputs": [
        {
          "output_type": "display_data",
          "data": {
            "image/png": "[encoded data removed]",
            "text/plain": [
              "<Figure size 720x72 with 10 Axes>"
            ]
          },
          "metadata": {
            "tags": [],
            "needs_background": "light"
          }
        }
      ]
    },
    {
      "cell_type": "markdown",
      "metadata": {
        "id": "7e7iSyWXz_GN"
      },
      "source": [
        "## 2. MLP neural network classifier\n",
        "* Build an MLP classifier model using the Sequential API. Your model should use only Flatten and Dense layers, with the final layer having a 10-way softmax output. \n",
        "* You should design and build the model yourself. Feel free to experiment with different MLP architectures. _Hint: to achieve a reasonable accuracy you won't need to use more than 4 or 5 layers._\n",
        "* Print out the model summary (using the summary() method)\n",
        "* Compile and train the model (we recommend a maximum of 30 epochs), making use of both training and validation sets during the training run. \n",
        "* Your model should track at least one appropriate metric, and use at least two callbacks during training, one of which should be a ModelCheckpoint callback.\n",
        "* As a guide, you should aim to achieve a final categorical cross entropy training loss of less than 1.0 (the validation loss might be higher).\n",
        "* Plot the learning curves for loss vs epoch and accuracy vs epoch for both training and validation sets.\n",
        "* Compute and display the loss and accuracy of the trained model on the test set."
      ]
    },
    {
      "cell_type": "code",
      "metadata": {
        "id": "l14VCBFVz_GO"
      },
      "source": [
        "def get_mlp_model(input_shape):\n",
        "    model = Sequential([\n",
        "        Flatten(input_shape = input_shape),\n",
        "        Dense(64, activation = 'relu'),\n",
        "        Dense(128, activation = 'relu'),\n",
        "        BatchNormalization(),\n",
        "        Dense(32, activation = 'relu'),\n",
        "        Dropout(0.3),\n",
        "        Dense(10, activation = 'softmax')\n",
        "    ])\n",
        "    model.compile(optimizer = 'adam', loss = 'sparse_categorical_crossentropy', metrics = ['accuracy'])\n",
        "    return model"
      ],
      "execution_count": 236,
      "outputs": []
    },
    {
      "cell_type": "code",
      "metadata": {
        "id": "beEZO1kvz_GR",
        "outputId": "ffdcc603-64bc-4ca9-8d8e-30e1eb837f1c",
        "colab": {
          "base_uri": "https://localhost:8080/",
          "height": 399
        }
      },
      "source": [
        "model = get_mlp_model(x_train[0].shape)\n",
        "model.summary()"
      ],
      "execution_count": 250,
      "outputs": [
        {
          "output_type": "stream",
          "text": [
            "Model: \"sequential_51\"\n",
            "_________________________________________________________________\n",
            "Layer (type)                 Output Shape              Param #   \n",
            "=================================================================\n",
            "flatten_50 (Flatten)         (None, 1024)              0         \n",
            "_________________________________________________________________\n",
            "dense_208 (Dense)            (None, 64)                65600     \n",
            "_________________________________________________________________\n",
            "dense_209 (Dense)            (None, 128)               8320      \n",
            "_________________________________________________________________\n",
            "batch_normalization_14 (Batc (None, 128)               512       \n",
            "_________________________________________________________________\n",
            "dense_210 (Dense)            (None, 32)                4128      \n",
            "_________________________________________________________________\n",
            "dropout_90 (Dropout)         (None, 32)                0         \n",
            "_________________________________________________________________\n",
            "dense_211 (Dense)            (None, 10)                330       \n",
            "=================================================================\n",
            "Total params: 78,890\n",
            "Trainable params: 78,634\n",
            "Non-trainable params: 256\n",
            "_________________________________________________________________\n"
          ],
          "name": "stdout"
        }
      ]
    },
    {
      "cell_type": "code",
      "metadata": {
        "id": "YxJXq3xYz_GU"
      },
      "source": [
        "def get_checkpoints():\n",
        "    best_model = ModelCheckpoint('mlp/checkpoints_best_only/checkpoint', \n",
        "                                 monitor = 'val_accuracy', save_weights_only = True,\n",
        "                                 save_best_only = True)\n",
        "    early_stopping = EarlyStopping(monitor = 'val_accuracy', patience = 4)\n",
        "    return [best_model, early_stopping]"
      ],
      "execution_count": 251,
      "outputs": []
    },
    {
      "cell_type": "code",
      "metadata": {
        "id": "pPPbzGhVz_GW",
        "outputId": "1e52014b-184a-4e80-f089-9f47c5f8e510",
        "colab": {
          "base_uri": "https://localhost:8080/",
          "height": 538
        }
      },
      "source": [
        "history = model.fit(x_train, y_train, epochs = 30, batch_size = 64, validation_split = 0.15, callbacks = get_checkpoints())"
      ],
      "execution_count": 252,
      "outputs": [
        {
          "output_type": "stream",
          "text": [
            "Epoch 1/30\n",
            "973/973 [==============================] - 3s 3ms/step - loss: 1.7271 - accuracy: 0.4129 - val_loss: 2.6140 - val_accuracy: 0.2908\n",
            "Epoch 2/30\n",
            "973/973 [==============================] - 3s 3ms/step - loss: 1.3707 - accuracy: 0.5597 - val_loss: 1.3708 - val_accuracy: 0.5599\n",
            "Epoch 3/30\n",
            "973/973 [==============================] - 3s 3ms/step - loss: 1.2798 - accuracy: 0.5921 - val_loss: 1.1212 - val_accuracy: 0.6476\n",
            "Epoch 4/30\n",
            "973/973 [==============================] - 3s 3ms/step - loss: 1.2196 - accuracy: 0.6145 - val_loss: 1.0994 - val_accuracy: 0.6506\n",
            "Epoch 5/30\n",
            "973/973 [==============================] - 3s 3ms/step - loss: 1.1843 - accuracy: 0.6240 - val_loss: 1.2774 - val_accuracy: 0.6029\n",
            "Epoch 6/30\n",
            "973/973 [==============================] - 3s 3ms/step - loss: 1.1516 - accuracy: 0.6354 - val_loss: 1.0081 - val_accuracy: 0.6794\n",
            "Epoch 7/30\n",
            "973/973 [==============================] - 3s 3ms/step - loss: 1.1134 - accuracy: 0.6452 - val_loss: 1.1432 - val_accuracy: 0.6378\n",
            "Epoch 8/30\n",
            "973/973 [==============================] - 3s 3ms/step - loss: 1.0926 - accuracy: 0.6540 - val_loss: 1.2121 - val_accuracy: 0.6081\n",
            "Epoch 9/30\n",
            "973/973 [==============================] - 3s 3ms/step - loss: 1.0561 - accuracy: 0.6678 - val_loss: 1.0109 - val_accuracy: 0.6780\n",
            "Epoch 10/30\n",
            "973/973 [==============================] - 3s 3ms/step - loss: 1.0396 - accuracy: 0.6731 - val_loss: 0.9557 - val_accuracy: 0.6932\n",
            "Epoch 11/30\n",
            "973/973 [==============================] - 3s 3ms/step - loss: 1.0186 - accuracy: 0.6810 - val_loss: 0.8886 - val_accuracy: 0.7166\n",
            "Epoch 12/30\n",
            "973/973 [==============================] - 3s 3ms/step - loss: 0.9931 - accuracy: 0.6894 - val_loss: 0.9776 - val_accuracy: 0.6984\n",
            "Epoch 13/30\n",
            "973/973 [==============================] - 3s 3ms/step - loss: 0.9790 - accuracy: 0.6950 - val_loss: 0.9214 - val_accuracy: 0.7077\n",
            "Epoch 14/30\n",
            "973/973 [==============================] - 3s 3ms/step - loss: 0.9628 - accuracy: 0.7005 - val_loss: 1.0094 - val_accuracy: 0.6745\n",
            "Epoch 15/30\n",
            "973/973 [==============================] - 3s 3ms/step - loss: 0.9563 - accuracy: 0.7033 - val_loss: 0.9141 - val_accuracy: 0.7122\n"
          ],
          "name": "stdout"
        }
      ]
    },
    {
      "cell_type": "code",
      "metadata": {
        "id": "7b5_8VsCz_GZ",
        "outputId": "d64ea8a0-121e-4c34-e637-fa5fd1be6906",
        "colab": {
          "base_uri": "https://localhost:8080/",
          "height": 295
        }
      },
      "source": [
        "plt.plot(history.history['accuracy'])\n",
        "plt.plot(history.history['val_accuracy'])\n",
        "plt.title('Accuracy vs. epochs')\n",
        "plt.ylabel('Loss')\n",
        "plt.xlabel('Epoch')\n",
        "plt.legend(['Training', 'Validation'], loc='lower right')\n",
        "plt.show()"
      ],
      "execution_count": 253,
      "outputs": [
        {
          "output_type": "display_data",
          "data": {
            "image/png": "[encoded data removed]",
            "text/plain": [
              "<Figure size 432x288 with 1 Axes>"
            ]
          },
          "metadata": {
            "tags": [],
            "needs_background": "light"
          }
        }
      ]
    },
    {
      "cell_type": "code",
      "metadata": {
        "id": "b0kH6VYqz_Gc",
        "outputId": "ff26c5e3-f1ff-4d34-f464-86c3b6c2d2b7",
        "colab": {
          "base_uri": "https://localhost:8080/",
          "height": 295
        }
      },
      "source": [
        "plt.plot(history.history['loss'])\n",
        "plt.plot(history.history['val_loss'])\n",
        "plt.title('Loss vs. epochs')\n",
        "plt.ylabel('Loss')\n",
        "plt.xlabel('Epoch')\n",
        "plt.legend(['Training', 'Validation'], loc='upper right')\n",
        "plt.show()"
      ],
      "execution_count": 254,
      "outputs": [
        {
          "output_type": "display_data",
          "data": {
            "image/png": "[encoded data removed]",
            "text/plain": [
              "<Figure size 432x288 with 1 Axes>"
            ]
          },
          "metadata": {
            "tags": [],
            "needs_background": "light"
          }
        }
      ]
    },
    {
      "cell_type": "code",
      "metadata": {
        "id": "kfEx4zuF4q70",
        "outputId": "d74bb646-b693-4962-ef3c-f62881936a2e",
        "colab": {
          "base_uri": "https://localhost:8080/",
          "height": 34
        }
      },
      "source": [
        "model = get_mlp_model(x_train[0].shape)\n",
        "model.load_weights('mlp/checkpoints_best_only/checkpoint')\n",
        "test_loss, test_acc = model.evaluate(x = x_test, y = y_test, verbose = 0)\n",
        "print('Loss in test set is {:.02f} and Accuracy in test set is {:.02f}'.format(test_loss, test_acc))"
      ],
      "execution_count": 259,
      "outputs": [
        {
          "output_type": "stream",
          "text": [
            "Loss in test set is 0.98 and Accuracy in test set is 0.70\n"
          ],
          "name": "stdout"
        }
      ]
    },
    {
      "cell_type": "markdown",
      "metadata": {
        "id": "_AWMBcsUnV2t"
      },
      "source": [
        "https://github.com/palashsharma891/Street-View-House-Numbers/blob/master/Classifier.ipynb"
      ]
    },
    {
      "cell_type": "markdown",
      "metadata": {
        "id": "ncPtDtCLz_Gg"
      },
      "source": [
        "## 3. CNN neural network classifier\n",
        "* Build a CNN classifier model using the Sequential API. Your model should use the Conv2D, MaxPool2D, BatchNormalization, Flatten, Dense and Dropout layers. The final layer should again have a 10-way softmax output. \n",
        "* You should design and build the model yourself. Feel free to experiment with different CNN architectures. _Hint: to achieve a reasonable accuracy you won't need to use more than 2 or 3 convolutional layers and 2 fully connected layers.)_\n",
        "* The CNN model should use fewer trainable parameters than your MLP model.\n",
        "* Compile and train the model (we recommend a maximum of 30 epochs), making use of both training and validation sets during the training run.\n",
        "* Your model should track at least one appropriate metric, and use at least two callbacks during training, one of which should be a ModelCheckpoint callback.\n",
        "* You should aim to beat the MLP model performance with fewer parameters!\n",
        "* Plot the learning curves for loss vs epoch and accuracy vs epoch for both training and validation sets.\n",
        "* Compute and display the loss and accuracy of the trained model on the test set."
      ]
    },
    {
      "cell_type": "code",
      "metadata": {
        "id": "yk2mH3Npz_Gh"
      },
      "source": [
        ""
      ],
      "execution_count": null,
      "outputs": []
    },
    {
      "cell_type": "code",
      "metadata": {
        "id": "lbgRgZ5cz_Gn"
      },
      "source": [
        ""
      ],
      "execution_count": null,
      "outputs": []
    },
    {
      "cell_type": "code",
      "metadata": {
        "id": "nkmS2vV2z_Gs"
      },
      "source": [
        ""
      ],
      "execution_count": null,
      "outputs": []
    },
    {
      "cell_type": "code",
      "metadata": {
        "id": "VytQECDVz_Gv"
      },
      "source": [
        ""
      ],
      "execution_count": null,
      "outputs": []
    },
    {
      "cell_type": "code",
      "metadata": {
        "id": "60mJypwQz_Gx"
      },
      "source": [
        ""
      ],
      "execution_count": null,
      "outputs": []
    },
    {
      "cell_type": "code",
      "metadata": {
        "id": "w2v80qosz_G0"
      },
      "source": [
        ""
      ],
      "execution_count": null,
      "outputs": []
    },
    {
      "cell_type": "markdown",
      "metadata": {
        "id": "3iBYFPWUz_G4"
      },
      "source": [
        "## 4. Get model predictions\n",
        "* Load the best weights for the MLP and CNN models that you saved during the training run.\n",
        "* Randomly select 5 images and corresponding labels from the test set and display the images with their labels.\n",
        "* Alongside the image and label, show each model’s predictive distribution as a bar chart, and the final model prediction given by the label with maximum probability."
      ]
    },
    {
      "cell_type": "code",
      "metadata": {
        "id": "XMYYWs0oz_G5"
      },
      "source": [
        ""
      ],
      "execution_count": null,
      "outputs": []
    },
    {
      "cell_type": "code",
      "metadata": {
        "id": "8yUPWbFCz_G8"
      },
      "source": [
        ""
      ],
      "execution_count": null,
      "outputs": []
    },
    {
      "cell_type": "code",
      "metadata": {
        "id": "W48syko0z_G-"
      },
      "source": [
        ""
      ],
      "execution_count": null,
      "outputs": []
    },
    {
      "cell_type": "code",
      "metadata": {
        "id": "J_qfLvK-z_HA"
      },
      "source": [
        ""
      ],
      "execution_count": null,
      "outputs": []
    },
    {
      "cell_type": "code",
      "metadata": {
        "id": "2Lx68VA7z_HE"
      },
      "source": [
        ""
      ],
      "execution_count": null,
      "outputs": []
    },
    {
      "cell_type": "code",
      "metadata": {
        "id": "NxKa37PWz_HL"
      },
      "source": [
        ""
      ],
      "execution_count": null,
      "outputs": []
    }
  ]
}